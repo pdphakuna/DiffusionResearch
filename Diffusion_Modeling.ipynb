{
 "cells": [
  {
   "cell_type": "code",
   "execution_count": 279,
   "metadata": {
    "collapsed": false
   },
   "outputs": [],
   "source": [
    "from __future__ import division\n",
    "import numpy as np\n",
    "import matplotlib.pyplot as plt\n",
    "from scipy.optimize import curve_fit\n",
    "from uncertainties import ufloat, unumpy\n",
    "from pylab import rcParams\n",
    "%matplotlib inline"
   ]
  },
  {
   "cell_type": "code",
   "execution_count": 280,
   "metadata": {
    "collapsed": true
   },
   "outputs": [],
   "source": [
    "D = 1.2e-15\n",
    "L = 1/10000\n",
    "M_vec = []\n",
    "times = range(100000)"
   ]
  },
  {
   "cell_type": "code",
   "execution_count": 281,
   "metadata": {
    "collapsed": false
   },
   "outputs": [],
   "source": [
    "for a in range(5,50,5):\n",
    "    M = []\n",
    "    for t in times:\n",
    "        S = np.zeros(a)\n",
    "        for n in range(a):\n",
    "            S[n] = (1/((2*(n)+1)**2))*np.exp(((-D)*((2*(n)+1)**2)*(np.pi**2)*(t))/L**2)\n",
    "        M.append(1-((8/np.pi**2)*np.sum(S)))\n",
    "    M_vec.append(M)"
   ]
  },
  {
   "cell_type": "code",
   "execution_count": 282,
   "metadata": {
    "collapsed": false
   },
   "outputs": [
    {
     "data": {
      "image/png": "[encoded data removed]",
      "text/plain": [
       "<matplotlib.figure.Figure at 0x20a37c258d0>"
      ]
     },
     "metadata": {},
     "output_type": "display_data"
    }
   ],
   "source": [
    "plt.plot(times[0:10000], np.transpose(M_vec)[0:10000])\n",
    "plt.show()"
   ]
  },
  {
   "cell_type": "code",
   "execution_count": 283,
   "metadata": {
    "collapsed": true
   },
   "outputs": [],
   "source": [
    "def Diffusion(times, D):\n",
    "    a = 40\n",
    "    L = 1/10000\n",
    "    M = []\n",
    "    \n",
    "    for t in times:\n",
    "        S = np.zeros(a)\n",
    "        for n in range(a):\n",
    "            S[n] = (1/((2*(n)+1)**2))*np.exp(((-D)*((2*(n)+1)**2)*(np.pi**2)*(t))/L**2)\n",
    "        M.append((1-((8/np.pi**2)*np.sum(S))))\n",
    "    return M"
   ]
  },
  {
   "cell_type": "code",
   "execution_count": 284,
   "metadata": {
    "collapsed": false
   },
   "outputs": [
    {
     "name": "stdout",
     "output_type": "stream",
     "text": [
      "[   7200.   14400.   28800.   86400.  172800.  259200.  345600.  432000.\n",
      "  518400.  604800.]\n",
      "[ 0.00081103  0.00596991  0.04666506  0.14834373  0.23223108  0.29575486\n",
      "  0.32873329  0.33089123  0.3324061   0.33499275]\n",
      "[ 36.  36.  36.  36.  36.  36.  36.  36.  36.  36.]\n",
      "[ 0.00140474  0.00691534  0.05134848  0.11471352  0.11589483  0.08516455\n",
      "  0.049565    0.04654565  0.04785974  0.05021521]\n"
     ]
    }
   ],
   "source": [
    "x_float = np.array([ufloat(2, 0.01), ufloat(4, 0.01), ufloat(8, 0.01), ufloat(24, 0.01), ufloat(48, 0.01), ufloat(72, 0.01), \n",
    "              ufloat(96, 0.01), ufloat(120, 0.01), ufloat(144, 0.01), ufloat(168, 0.01)])\n",
    "x_float *= 3600\n",
    "y_float = np.array([ufloat(0.081102667, 0.140473939), ufloat(0.596991, 0.691533728), ufloat(4.666506, 5.134847695), ufloat(14.83437333, 11.47135166), \n",
    "              ufloat(23.223108, 11.58948278), ufloat(29.575486, 8.516454673), ufloat(32.873329, 4.956499587), ufloat(33.08912267, 4.654565199), \n",
    "              ufloat(33.24061033, 4.785973839), ufloat(33.49927467, 5.021521431)])\n",
    "y_float /= 100\n",
    "x = unumpy.nominal_values(x_float)\n",
    "y = unumpy.nominal_values(y_float)\n",
    "\n",
    "x_err = unumpy.std_devs(x_float)\n",
    "y_err = unumpy.std_devs(y_float)\n",
    "\n",
    "print(x)\n",
    "print(y)\n",
    "print(x_err)\n",
    "print(y_err)\n",
    "\n"
   ]
  },
  {
   "cell_type": "code",
   "execution_count": 285,
   "metadata": {
    "collapsed": false
   },
   "outputs": [
    {
     "data": {
      "image/png": "[encoded data removed]",
      "text/plain": [
       "<matplotlib.figure.Figure at 0x20a3690a710>"
      ]
     },
     "metadata": {},
     "output_type": "display_data"
    }
   ],
   "source": [
    "plt.ylabel('Mass Fraction (M/M$\\infty$)', fontsize = 16)\n",
    "plt.xlabel('time (s)', fontsize = 16)\n",
    "#rcParams['figure.figsize'] = 10, 10\n",
    "plt.errorbar(x, y, fmt = 'wo', yerr = y_err)\n",
    "#plt.plot(x,y)\n",
    "plt.show()"
   ]
  },
  {
   "cell_type": "code",
   "execution_count": 286,
   "metadata": {
    "collapsed": false
   },
   "outputs": [],
   "source": [
    "D_opt = curve_fit(Diffusion, x, y, p0=1.2e-15)"
   ]
  },
  {
   "cell_type": "code",
   "execution_count": 287,
   "metadata": {
    "collapsed": false
   },
   "outputs": [
    {
     "name": "stdout",
     "output_type": "stream",
     "text": [
      "(array([  4.71375896e-16]), array([[  2.17090411e-33]]))\n"
     ]
    }
   ],
   "source": [
    "print (D_opt)"
   ]
  },
  {
   "cell_type": "code",
   "execution_count": 288,
   "metadata": {
    "collapsed": false
   },
   "outputs": [
    {
     "name": "stdout",
     "output_type": "stream",
     "text": [
      "[[  4.65929621e-17]]\n"
     ]
    }
   ],
   "source": [
    "D = D_opt[0]\n",
    "variance = D_opt[1]\n",
    "sigma = np.sqrt(variance)\n",
    "print(sigma)\n",
    "a = 40\n",
    "L = 1/10000\n",
    "M = []\n",
    "times = range(0, 600000, 100)\n",
    "\n",
    "for t in times:\n",
    "        S = np.zeros(a)\n",
    "        for n in range(a):\n",
    "            S[n] = (1/((2*(n)+1)**2))*np.exp(((-D)*((2*(n)+1)**2)*(np.pi**2)*(t))/L**2)\n",
    "        M.append(1-((8/np.pi**2)*np.sum(S)))"
   ]
  },
  {
   "cell_type": "code",
   "execution_count": 289,
   "metadata": {
    "collapsed": false
   },
   "outputs": [
    {
     "data": {
      "image/png": "[encoded data removed]",
      "text/plain": [
       "<matplotlib.figure.Figure at 0x20a35d8e780>"
      ]
     },
     "metadata": {},
     "output_type": "display_data"
    }
   ],
   "source": [
    "plt.plot(times, M)\n",
    "plt.ylabel('Mass Fraction (M/Minf)', fontsize = 16)\n",
    "plt.xlabel('time (s)', fontsize = 16)\n",
    "plt.errorbar(x, y, fmt = 'ro', yerr = y_err)\n",
    "#plt.plot(x, y)\n",
    "plt.show()"
   ]
  },
  {
   "cell_type": "code",
   "execution_count": 290,
   "metadata": {
    "collapsed": false
   },
   "outputs": [],
   "source": [
    "x = np.array([ufloat(10, 0.1), ufloat(15, 0.2)])"
   ]
  },
  {
   "cell_type": "code",
   "execution_count": 291,
   "metadata": {
    "collapsed": false
   },
   "outputs": [],
   "source": [
    "y = unumpy.std_devs(x)\n",
    "z = unumpy.nominal_values(x)"
   ]
  },
  {
   "cell_type": "code",
   "execution_count": 292,
   "metadata": {
    "collapsed": false
   },
   "outputs": [
    {
     "name": "stdout",
     "output_type": "stream",
     "text": [
      "[ 0.1  0.2]\n",
      "[ 10.  15.]\n"
     ]
    }
   ],
   "source": [
    "print (y)\n",
    "print (z)"
   ]
  },
  {
   "cell_type": "code",
   "execution_count": null,
   "metadata": {
    "collapsed": true
   },
   "outputs": [],
   "source": []
  },
  {
   "cell_type": "code",
   "execution_count": null,
   "metadata": {
    "collapsed": true
   },
   "outputs": [],
   "source": []
  }
 ],
 "metadata": {
  "kernelspec": {
   "display_name": "Python 3",
   "language": "python",
   "name": "python3"
  },
  "language_info": {
   "codemirror_mode": {
    "name": "ipython",
    "version": 3
   },
   "file_extension": ".py",
   "mimetype": "text/x-python",
   "name": "python",
   "nbconvert_exporter": "python",
   "pygments_lexer": "ipython3",
   "version": "3.5.1"
  }
 },
 "nbformat": 4,
 "nbformat_minor": 0
}
